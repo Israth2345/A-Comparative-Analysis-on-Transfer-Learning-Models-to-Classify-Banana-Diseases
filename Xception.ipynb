{
 "cells": [
  {
   "cell_type": "code",
   "execution_count": 12,
   "id": "bcefb725-fc63-4ada-b9fb-d8ed749ee13f",
   "metadata": {
    "tags": []
   },
   "outputs": [],
   "source": [
    "import tensorflow as tf"
   ]
  },
  {
   "cell_type": "code",
   "execution_count": null,
   "id": "e9d420de-9668-4893-bfee-a53bf20ab9e0",
   "metadata": {},
   "outputs": [],
   "source": [
    "!pip install matplotlib"
   ]
  },
  {
   "cell_type": "code",
   "execution_count": 2,
   "id": "5e980593-e29f-40d9-841b-53a182904b7b",
   "metadata": {
    "tags": []
   },
   "outputs": [
    {
     "name": "stdout",
     "output_type": "stream",
     "text": [
      "WARNING:tensorflow:From C:\\Users\\asgor\\AppData\\Local\\Temp\\ipykernel_12408\\337460670.py:1: is_gpu_available (from tensorflow.python.framework.test_util) is deprecated and will be removed in a future version.\n",
      "Instructions for updating:\n",
      "Use `tf.config.list_physical_devices('GPU')` instead.\n"
     ]
    },
    {
     "data": {
      "text/plain": [
       "True"
      ]
     },
     "execution_count": 2,
     "metadata": {},
     "output_type": "execute_result"
    }
   ],
   "source": [
    "tf.test.is_gpu_available()"
   ]
  },
  {
   "cell_type": "code",
   "execution_count": 1,
   "id": "5bcd4f70-105d-4b61-805a-e3c53571fa2e",
   "metadata": {
    "tags": []
   },
   "outputs": [
    {
     "name": "stdout",
     "output_type": "stream",
     "text": [
      "Name: tensorflow\n",
      "Version: 2.10.1\n",
      "Summary: TensorFlow is an open source machine learning framework for everyone.\n",
      "Home-page: https://www.tensorflow.org/\n",
      "Author: Google Inc.\n",
      "Author-email: packages@tensorflow.org\n",
      "License: Apache 2.0\n",
      "Location: c:\\users\\asgor\\anaconda3\\envs\\banana\\lib\\site-packages\n",
      "Requires: absl-py, astunparse, flatbuffers, gast, google-pasta, grpcio, h5py, keras, keras-preprocessing, libclang, numpy, opt-einsum, packaging, protobuf, setuptools, six, tensorboard, tensorflow-estimator, tensorflow-io-gcs-filesystem, termcolor, typing-extensions, wrapt\n",
      "Required-by: \n",
      "Note: you may need to restart the kernel to use updated packages.\n"
     ]
    }
   ],
   "source": [
    "pip show tensorflow\n"
   ]
  },
  {
   "cell_type": "code",
   "execution_count": 3,
   "id": "665367db-164d-4232-ab87-d2bb9ab5ae7a",
   "metadata": {
    "tags": []
   },
   "outputs": [
    {
     "name": "stdout",
     "output_type": "stream",
     "text": [
      "[PhysicalDevice(name='/physical_device:GPU:0', device_type='GPU')]\n"
     ]
    }
   ],
   "source": [
    "print(tf.config.list_physical_devices('GPU'))"
   ]
  },
  {
   "cell_type": "code",
   "execution_count": 1,
   "id": "c30bafc0-2841-4ef3-95a9-1f28ed0a20ca",
   "metadata": {
    "tags": []
   },
   "outputs": [
    {
     "name": "stdout",
     "output_type": "stream",
     "text": [
      "hello\n"
     ]
    }
   ],
   "source": [
    "print('hello')"
   ]
  },
  {
   "cell_type": "code",
   "execution_count": 5,
   "id": "22a3c7a8-f5fa-407d-875d-e083c64737e9",
   "metadata": {},
   "outputs": [
    {
     "name": "stdout",
     "output_type": "stream",
     "text": [
      "GPU Model: NVIDIA GeForce RTX 3060 Ti\n",
      "Okkaskgggffghgb\n"
     ]
    }
   ],
   "source": [
    "\n",
    "import os\n",
    "gpu_available = tf.test.is_gpu_available()\n",
    "\n",
    "if gpu_available:\n",
    "    # Get GPU details using system command\n",
    "    command = \"nvidia-smi --query-gpu=gpu_name --format=csv,noheader\"\n",
    "    gpu_model = os.popen(command).read().strip()\n",
    "\n",
    "    if gpu_model:\n",
    "        print(\"GPU Model:\", gpu_model)\n",
    "print('Okkaskgggffghgb')"
   ]
  },
  {
   "cell_type": "code",
   "execution_count": 6,
   "id": "3ec9f056-723b-499b-808d-3ff829e87f5c",
   "metadata": {},
   "outputs": [
    {
     "name": "stdout",
     "output_type": "stream",
     "text": [
      "Found 16092 files belonging to 3 classes.\n"
     ]
    }
   ],
   "source": [
    "datauc = tf.keras.utils.image_dataset_from_directory('data', batch_size = 32, image_size = (299,299))"
   ]
  },
  {
   "cell_type": "code",
   "execution_count": 7,
   "id": "b2ece19c-4816-4cf2-8e89-e8d63194c48b",
   "metadata": {},
   "outputs": [],
   "source": [
    "from tensorflow.keras.applications.inception_resnet_v2 import preprocess_input"
   ]
  },
  {
   "cell_type": "code",
   "execution_count": 8,
   "id": "fcbb821c-11e8-477e-991c-6bddf83493ee",
   "metadata": {},
   "outputs": [],
   "source": [
    "def preprocess_images(images, labels):\n",
    "    images = preprocess_input(images)\n",
    "    return images, labels\n",
    "\n",
    "# Apply normalization to the dataset\n",
    "datauc_normalized = datauc.map(preprocess_images)"
   ]
  },
  {
   "cell_type": "code",
   "execution_count": 9,
   "id": "f332ae0d-c752-4b84-aac7-ce8249f2a69c",
   "metadata": {},
   "outputs": [],
   "source": [
    "train_size = int(len(datauc_normalized) * 0.7)\n",
    "\n",
    "val_size = int(len(datauc_normalized) * 0.2)\n",
    "\n",
    "test_size = int(len(datauc_normalized) * 0.1)"
   ]
  },
  {
   "cell_type": "code",
   "execution_count": 10,
   "id": "f55fdd6e-da57-48d7-954a-5d168925fbf2",
   "metadata": {},
   "outputs": [],
   "source": [
    "train = datauc_normalized.take(train_size)\n",
    "val = datauc_normalized.skip(train_size).take(val_size)\n",
    "test = datauc_normalized.skip(train_size + val_size).take(test_size)"
   ]
  },
  {
   "cell_type": "code",
   "execution_count": 16,
   "id": "bc61362f-1f9e-4109-b6b8-fae272c9b461",
   "metadata": {},
   "outputs": [],
   "source": [
    "from matplotlib import pyplot as plt"
   ]
  },
  {
   "cell_type": "code",
   "execution_count": 17,
   "id": "2c98e8e4-be85-4f92-a815-830beceb607a",
   "metadata": {},
   "outputs": [],
   "source": [
    "from tensorflow.keras.models import Sequential\n",
    "from tensorflow.keras.layers import Conv2D, MaxPooling2D, Dense\n",
    "from tensorflow.keras.applications import Xception\n",
    "from tensorflow.keras.optimizers import Adam\n",
    "from tensorflow.keras.layers import Dense, Flatten, Dropout\n",
    "from tensorflow.keras.callbacks import ModelCheckpoint, History\n",
    "import matplotlib.pyplot as plt\n",
    "from tensorflow.keras.models import load_model\n",
    "from keras.callbacks import EarlyStopping"
   ]
  },
  {
   "cell_type": "code",
   "execution_count": 18,
   "id": "9b579c09-3e86-4433-afb9-5d69564d0dcf",
   "metadata": {},
   "outputs": [
    {
     "name": "stdout",
     "output_type": "stream",
     "text": [
      "Downloading data from https://storage.googleapis.com/tensorflow/keras-applications/xception/xception_weights_tf_dim_ordering_tf_kernels_notop.h5\n",
      "83683744/83683744 [==============================] - 28s 0us/step\n"
     ]
    }
   ],
   "source": [
    "base_model = Xception(weights='imagenet', include_top=False, input_shape=(299, 299, 3))"
   ]
  },
  {
   "cell_type": "code",
   "execution_count": 19,
   "id": "0ba11149-88ef-441f-8bb0-8a0bc7ddb72f",
   "metadata": {},
   "outputs": [],
   "source": [
    "model = Sequential()"
   ]
  },
  {
   "cell_type": "code",
   "execution_count": 20,
   "id": "04470463-dda2-4008-89f4-ba9fa8db21df",
   "metadata": {},
   "outputs": [],
   "source": [
    "from keras.regularizers import l2"
   ]
  },
  {
   "cell_type": "code",
   "execution_count": 21,
   "id": "e0f9de66-af00-4398-99a7-7cb4804f7fef",
   "metadata": {},
   "outputs": [],
   "source": [
    "model.add(base_model)\n",
    "model.add(Flatten())\n",
    "model.add(Dense(256, activation='relu', kernel_regularizer=l2(0.0000018)))\n",
    "model.add(Dropout(0.20))\n",
    "model.add(Dense(128, activation='relu', kernel_regularizer=l2(0.0018)))\n",
    "model.add(Dropout(0.20))\n",
    "model.add(Dense(64, activation='relu', kernel_regularizer=l2(0.0018)))\n",
    "model.add(Dense(3, activation='softmax'))\n",
    "# Freeze the layers of the Xception base\n",
    "for layer in base_model.layers:\n",
    "    layer.trainable = False"
   ]
  },
  {
   "cell_type": "code",
   "execution_count": 22,
   "id": "8a0df340-c331-4354-a954-e10b679a2127",
   "metadata": {},
   "outputs": [],
   "source": [
    "model.compile(optimizer='adam', loss='sparse_categorical_crossentropy', metrics=['accuracy'])"
   ]
  },
  {
   "cell_type": "code",
   "execution_count": 23,
   "id": "2082706e-1a31-48ba-b5d3-0a0c28768896",
   "metadata": {},
   "outputs": [
    {
     "name": "stdout",
     "output_type": "stream",
     "text": [
      "Epoch 1/50\n",
      "352/352 [==============================] - 76s 193ms/step - loss: 1.0585 - accuracy: 0.8999 - val_loss: 0.4110 - val_accuracy: 0.9581\n",
      "Epoch 2/50\n",
      "352/352 [==============================] - 69s 197ms/step - loss: 0.4223 - accuracy: 0.9559 - val_loss: 0.3857 - val_accuracy: 0.9609\n",
      "Epoch 3/50\n",
      "352/352 [==============================] - 70s 198ms/step - loss: 0.3508 - accuracy: 0.9681 - val_loss: 0.3264 - val_accuracy: 0.9681\n",
      "Epoch 4/50\n",
      "352/352 [==============================] - 70s 197ms/step - loss: 0.2990 - accuracy: 0.9756 - val_loss: 0.3128 - val_accuracy: 0.9709\n",
      "Epoch 5/50\n",
      "352/352 [==============================] - 70s 197ms/step - loss: 0.2599 - accuracy: 0.9798 - val_loss: 0.3193 - val_accuracy: 0.9613\n",
      "Epoch 6/50\n",
      "352/352 [==============================] - 69s 197ms/step - loss: 0.2232 - accuracy: 0.9862 - val_loss: 0.2740 - val_accuracy: 0.9747\n",
      "Epoch 7/50\n",
      "352/352 [==============================] - 69s 197ms/step - loss: 0.1998 - accuracy: 0.9860 - val_loss: 0.2973 - val_accuracy: 0.9728\n",
      "Epoch 8/50\n",
      "352/352 [==============================] - 69s 196ms/step - loss: 0.1917 - accuracy: 0.9859 - val_loss: 0.2443 - val_accuracy: 0.9712\n",
      "Epoch 9/50\n",
      "352/352 [==============================] - 70s 197ms/step - loss: 0.1456 - accuracy: 0.9941 - val_loss: 0.2388 - val_accuracy: 0.9753\n",
      "Epoch 10/50\n",
      "352/352 [==============================] - 69s 196ms/step - loss: 0.1351 - accuracy: 0.9922 - val_loss: 0.2002 - val_accuracy: 0.9744\n",
      "Epoch 11/50\n",
      "352/352 [==============================] - 70s 197ms/step - loss: 0.1185 - accuracy: 0.9934 - val_loss: 0.2031 - val_accuracy: 0.9734\n",
      "Epoch 12/50\n",
      "352/352 [==============================] - 69s 196ms/step - loss: 0.1027 - accuracy: 0.9926 - val_loss: 0.1773 - val_accuracy: 0.9756\n",
      "Epoch 13/50\n",
      "352/352 [==============================] - 70s 197ms/step - loss: 0.0931 - accuracy: 0.9928 - val_loss: 0.1723 - val_accuracy: 0.9769\n",
      "Epoch 14/50\n",
      "352/352 [==============================] - 70s 197ms/step - loss: 0.0893 - accuracy: 0.9916 - val_loss: 0.1682 - val_accuracy: 0.9769\n",
      "Epoch 15/50\n",
      "352/352 [==============================] - 70s 198ms/step - loss: 0.0694 - accuracy: 0.9959 - val_loss: 0.2081 - val_accuracy: 0.9759\n",
      "Epoch 16/50\n",
      "352/352 [==============================] - 70s 197ms/step - loss: 0.0608 - accuracy: 0.9954 - val_loss: 0.2200 - val_accuracy: 0.9709\n",
      "Epoch 17/50\n",
      "352/352 [==============================] - 70s 197ms/step - loss: 0.0653 - accuracy: 0.9922 - val_loss: 0.1575 - val_accuracy: 0.9781\n",
      "Epoch 18/50\n",
      "352/352 [==============================] - 70s 198ms/step - loss: 0.0527 - accuracy: 0.9960 - val_loss: 0.1538 - val_accuracy: 0.9772\n",
      "Epoch 19/50\n",
      "352/352 [==============================] - 69s 197ms/step - loss: 0.0538 - accuracy: 0.9948 - val_loss: 0.1800 - val_accuracy: 0.9725\n",
      "Epoch 20/50\n",
      "352/352 [==============================] - 70s 197ms/step - loss: 0.0496 - accuracy: 0.9947 - val_loss: 0.1407 - val_accuracy: 0.9816\n",
      "Epoch 21/50\n",
      "352/352 [==============================] - 70s 197ms/step - loss: 0.0459 - accuracy: 0.9952 - val_loss: 0.1516 - val_accuracy: 0.9772\n",
      "Epoch 22/50\n",
      "352/352 [==============================] - 69s 197ms/step - loss: 0.0486 - accuracy: 0.9944 - val_loss: 0.1486 - val_accuracy: 0.9769\n",
      "Epoch 23/50\n",
      "352/352 [==============================] - 70s 198ms/step - loss: 0.0433 - accuracy: 0.9963 - val_loss: 0.1607 - val_accuracy: 0.9734\n",
      "Epoch 24/50\n",
      "352/352 [==============================] - 69s 197ms/step - loss: 0.0463 - accuracy: 0.9949 - val_loss: 0.1375 - val_accuracy: 0.9750\n",
      "Epoch 25/50\n",
      "352/352 [==============================] - 70s 197ms/step - loss: 0.0418 - accuracy: 0.9957 - val_loss: 0.2406 - val_accuracy: 0.9756\n",
      "Epoch 26/50\n",
      "352/352 [==============================] - 69s 196ms/step - loss: 0.0451 - accuracy: 0.9943 - val_loss: 0.1490 - val_accuracy: 0.9766\n",
      "Epoch 27/50\n",
      "352/352 [==============================] - 70s 197ms/step - loss: 0.0380 - accuracy: 0.9964 - val_loss: 0.2072 - val_accuracy: 0.9753\n",
      "Epoch 28/50\n",
      "352/352 [==============================] - 70s 198ms/step - loss: 0.0413 - accuracy: 0.9964 - val_loss: 0.1542 - val_accuracy: 0.9762\n",
      "Epoch 29/50\n",
      "352/352 [==============================] - 70s 197ms/step - loss: 0.0411 - accuracy: 0.9953 - val_loss: 0.1371 - val_accuracy: 0.9787\n",
      "Epoch 30/50\n",
      "352/352 [==============================] - 70s 197ms/step - loss: 0.0390 - accuracy: 0.9962 - val_loss: 0.1562 - val_accuracy: 0.9784\n",
      "Epoch 31/50\n",
      "352/352 [==============================] - 70s 198ms/step - loss: 0.0404 - accuracy: 0.9960 - val_loss: 0.1713 - val_accuracy: 0.9762\n",
      "Epoch 32/50\n",
      "352/352 [==============================] - 69s 197ms/step - loss: 0.0377 - accuracy: 0.9970 - val_loss: 0.1906 - val_accuracy: 0.9772\n",
      "Epoch 33/50\n",
      "352/352 [==============================] - 69s 197ms/step - loss: 0.0478 - accuracy: 0.9946 - val_loss: 0.1526 - val_accuracy: 0.9797\n",
      "Epoch 34/50\n",
      "352/352 [==============================] - 69s 195ms/step - loss: 0.0408 - accuracy: 0.9964 - val_loss: 0.1471 - val_accuracy: 0.9712\n",
      "Epoch 35/50\n",
      "352/352 [==============================] - 69s 196ms/step - loss: 0.0399 - accuracy: 0.9965 - val_loss: 0.1475 - val_accuracy: 0.9797\n",
      "Epoch 36/50\n",
      "352/352 [==============================] - 69s 197ms/step - loss: 0.0396 - accuracy: 0.9964 - val_loss: 0.1427 - val_accuracy: 0.9781\n",
      "Epoch 37/50\n",
      "352/352 [==============================] - 70s 197ms/step - loss: 0.0390 - accuracy: 0.9965 - val_loss: 0.1610 - val_accuracy: 0.9766\n",
      "Epoch 38/50\n",
      "352/352 [==============================] - 70s 197ms/step - loss: 0.0393 - accuracy: 0.9970 - val_loss: 0.1620 - val_accuracy: 0.9797\n",
      "Epoch 39/50\n",
      "352/352 [==============================] - 70s 197ms/step - loss: 0.0440 - accuracy: 0.9949 - val_loss: 0.1376 - val_accuracy: 0.9819\n",
      "Epoch 40/50\n",
      "352/352 [==============================] - 69s 197ms/step - loss: 0.0372 - accuracy: 0.9967 - val_loss: 0.1786 - val_accuracy: 0.9812\n",
      "Epoch 41/50\n",
      "352/352 [==============================] - 69s 197ms/step - loss: 0.0310 - accuracy: 0.9984 - val_loss: 0.1966 - val_accuracy: 0.9775\n",
      "Epoch 42/50\n",
      "352/352 [==============================] - 70s 197ms/step - loss: 0.0434 - accuracy: 0.9946 - val_loss: 0.1521 - val_accuracy: 0.9803\n",
      "Epoch 43/50\n",
      "352/352 [==============================] - 69s 196ms/step - loss: 0.0438 - accuracy: 0.9956 - val_loss: 0.1347 - val_accuracy: 0.9759\n",
      "Epoch 44/50\n",
      "352/352 [==============================] - 69s 196ms/step - loss: 0.0363 - accuracy: 0.9972 - val_loss: 0.1637 - val_accuracy: 0.9809\n",
      "Epoch 45/50\n",
      "352/352 [==============================] - 69s 196ms/step - loss: 0.0341 - accuracy: 0.9972 - val_loss: 0.1445 - val_accuracy: 0.9816\n",
      "Epoch 46/50\n",
      "352/352 [==============================] - 69s 196ms/step - loss: 0.0369 - accuracy: 0.9970 - val_loss: 0.1470 - val_accuracy: 0.9800\n",
      "Epoch 47/50\n",
      "352/352 [==============================] - 69s 196ms/step - loss: 0.0379 - accuracy: 0.9973 - val_loss: 0.2052 - val_accuracy: 0.9731\n",
      "Epoch 48/50\n",
      "352/352 [==============================] - 69s 196ms/step - loss: 0.0335 - accuracy: 0.9980 - val_loss: 0.1481 - val_accuracy: 0.9797\n",
      "Epoch 49/50\n",
      "352/352 [==============================] - 69s 196ms/step - loss: 0.0360 - accuracy: 0.9965 - val_loss: 0.1765 - val_accuracy: 0.9762\n",
      "Epoch 50/50\n",
      "352/352 [==============================] - 69s 196ms/step - loss: 0.0389 - accuracy: 0.9964 - val_loss: 0.1420 - val_accuracy: 0.9803\n"
     ]
    }
   ],
   "source": [
    "history = History()\n",
    "hist = model.fit(train, epochs=50, validation_data=val, callbacks=[history])"
   ]
  },
  {
   "cell_type": "code",
   "execution_count": 24,
   "id": "25d805ba-dac6-4f9e-9e1e-e745821695eb",
   "metadata": {},
   "outputs": [
    {
     "data": {
      "image/png": "[encoded data removed]",
      "text/plain": [
       "<Figure size 640x480 with 1 Axes>"
      ]
     },
     "metadata": {},
     "output_type": "display_data"
    }
   ],
   "source": [
    "plt.plot(hist.history['loss'], label='Training Loss')\n",
    "plt.plot(hist.history['val_loss'], label='Validation Loss')\n",
    "plt.xlabel('Epoch')\n",
    "plt.ylabel('Loss')\n",
    "plt.legend()\n",
    "plt.show()"
   ]
  },
  {
   "cell_type": "code",
   "execution_count": 25,
   "id": "509c74cb-d439-4088-9f43-7a0202116bf5",
   "metadata": {},
   "outputs": [
    {
     "name": "stdout",
     "output_type": "stream",
     "text": [
      "1/1 [==============================] - 1s 1s/step\n",
      "1/1 [==============================] - 0s 31ms/step\n",
      "1/1 [==============================] - 0s 31ms/step\n",
      "1/1 [==============================] - 0s 33ms/step\n",
      "1/1 [==============================] - 0s 32ms/step\n",
      "1/1 [==============================] - 0s 29ms/step\n",
      "1/1 [==============================] - 0s 30ms/step\n",
      "1/1 [==============================] - 0s 32ms/step\n",
      "1/1 [==============================] - 0s 32ms/step\n",
      "1/1 [==============================] - 0s 31ms/step\n",
      "1/1 [==============================] - 0s 31ms/step\n",
      "1/1 [==============================] - 0s 31ms/step\n",
      "1/1 [==============================] - 0s 34ms/step\n",
      "1/1 [==============================] - 0s 32ms/step\n",
      "1/1 [==============================] - 0s 28ms/step\n",
      "1/1 [==============================] - 0s 31ms/step\n",
      "1/1 [==============================] - 0s 28ms/step\n",
      "1/1 [==============================] - 0s 31ms/step\n",
      "1/1 [==============================] - 0s 32ms/step\n",
      "1/1 [==============================] - 0s 29ms/step\n",
      "1/1 [==============================] - 0s 31ms/step\n",
      "1/1 [==============================] - 0s 32ms/step\n",
      "1/1 [==============================] - 0s 31ms/step\n",
      "1/1 [==============================] - 0s 32ms/step\n",
      "1/1 [==============================] - 0s 32ms/step\n",
      "1/1 [==============================] - 0s 31ms/step\n",
      "1/1 [==============================] - 0s 34ms/step\n",
      "1/1 [==============================] - 0s 27ms/step\n",
      "1/1 [==============================] - 0s 28ms/step\n",
      "1/1 [==============================] - 0s 30ms/step\n",
      "1/1 [==============================] - 0s 31ms/step\n",
      "1/1 [==============================] - 0s 28ms/step\n",
      "1/1 [==============================] - 0s 27ms/step\n",
      "1/1 [==============================] - 0s 28ms/step\n",
      "1/1 [==============================] - 0s 35ms/step\n",
      "1/1 [==============================] - 0s 27ms/step\n",
      "1/1 [==============================] - 0s 27ms/step\n",
      "1/1 [==============================] - 0s 28ms/step\n",
      "1/1 [==============================] - 0s 27ms/step\n",
      "1/1 [==============================] - 0s 28ms/step\n",
      "1/1 [==============================] - 0s 28ms/step\n",
      "1/1 [==============================] - 0s 27ms/step\n",
      "1/1 [==============================] - 0s 27ms/step\n",
      "1/1 [==============================] - 0s 27ms/step\n",
      "1/1 [==============================] - 0s 27ms/step\n",
      "1/1 [==============================] - 0s 27ms/step\n",
      "1/1 [==============================] - 0s 27ms/step\n",
      "1/1 [==============================] - 0s 28ms/step\n",
      "1/1 [==============================] - 0s 27ms/step\n",
      "1/1 [==============================] - 0s 27ms/step\n",
      "Test Accuracy:  tf.Tensor(0.980625, shape=(), dtype=float32)\n"
     ]
    }
   ],
   "source": [
    "from tensorflow.keras.metrics import SparseCategoricalAccuracy\n",
    "sparse_accuracy = SparseCategoricalAccuracy()\n",
    "for bat in test.as_numpy_iterator():\n",
    "    X, y = bat\n",
    "    yhat = model.predict(X)\n",
    "    sparse_accuracy.update_state(y, yhat)\n",
    "print(\"Test Accuracy: \", sparse_accuracy.result())"
   ]
  },
  {
   "cell_type": "code",
   "execution_count": 26,
   "id": "aa4bc5b1-ced3-4f9f-b88f-5488f2041c27",
   "metadata": {},
   "outputs": [
    {
     "name": "stdout",
     "output_type": "stream",
     "text": [
      "hfghuy\n"
     ]
    }
   ],
   "source": [
    "print('hfghuy')"
   ]
  },
  {
   "cell_type": "code",
   "execution_count": 27,
   "id": "aa5c4973-c1bc-4184-8f87-b808adb0cea9",
   "metadata": {},
   "outputs": [],
   "source": [
    "model.save(os.path.join('models','XceptionN.h5'))"
   ]
  },
  {
   "cell_type": "code",
   "execution_count": 1,
   "id": "17716b87-ad44-4a83-8884-a85d16f47cd0",
   "metadata": {},
   "outputs": [
    {
     "name": "stdout",
     "output_type": "stream",
     "text": [
      "jhjhgj\n"
     ]
    }
   ],
   "source": [
    "print('jhjhgj')"
   ]
  },
  {
   "cell_type": "code",
   "execution_count": 1,
   "id": "51e8d7a8-f8c2-4deb-9881-f19b9e1e6f2d",
   "metadata": {},
   "outputs": [],
   "source": [
    "import os\n",
    "from tensorflow.keras.models import load_model"
   ]
  },
  {
   "cell_type": "code",
   "execution_count": 2,
   "id": "5037e3c1-cddc-4bfd-9cfc-211e0a50178d",
   "metadata": {},
   "outputs": [],
   "source": [
    "model_path = os.path.join('models', 'XceptionN.h5')\n",
    "\n",
    "\n",
    "model = load_model(model_path)"
   ]
  },
  {
   "cell_type": "code",
   "execution_count": 3,
   "id": "0235f1f6-cd14-4c2f-b42e-ec4b61764778",
   "metadata": {
    "tags": []
   },
   "outputs": [
    {
     "name": "stdout",
     "output_type": "stream",
     "text": [
      "Name: scikit-learn\n",
      "Version: 1.3.0\n",
      "Summary: A set of python modules for machine learning and data mining\n",
      "Home-page: http://scikit-learn.org\n",
      "Author: \n",
      "Author-email: \n",
      "License: new BSD\n",
      "Location: c:\\users\\asgor\\anaconda3\\envs\\banana\\lib\\site-packages\n",
      "Requires: joblib, numpy, scipy, threadpoolctl\n",
      "Required-by: \n",
      "Note: you may need to restart the kernel to use updated packages.\n"
     ]
    }
   ],
   "source": [
    "pip show scikit-learn"
   ]
  },
  {
   "cell_type": "code",
   "execution_count": 11,
   "id": "920b2332-5c67-4e77-a1ac-0deb585ba11b",
   "metadata": {
    "tags": []
   },
   "outputs": [
    {
     "name": "stdout",
     "output_type": "stream",
     "text": [
      "1/1 [==============================] - 3s 3s/step\n",
      "1/1 [==============================] - 2s 2s/step\n",
      "1/1 [==============================] - 2s 2s/step\n",
      "1/1 [==============================] - 2s 2s/step\n",
      "1/1 [==============================] - 2s 2s/step\n",
      "1/1 [==============================] - 2s 2s/step\n",
      "1/1 [==============================] - 2s 2s/step\n",
      "1/1 [==============================] - 2s 2s/step\n",
      "1/1 [==============================] - 2s 2s/step\n",
      "1/1 [==============================] - 2s 2s/step\n",
      "1/1 [==============================] - 2s 2s/step\n",
      "1/1 [==============================] - 2s 2s/step\n",
      "1/1 [==============================] - 2s 2s/step\n",
      "1/1 [==============================] - 2s 2s/step\n",
      "1/1 [==============================] - 2s 2s/step\n",
      "1/1 [==============================] - 2s 2s/step\n",
      "1/1 [==============================] - 2s 2s/step\n",
      "1/1 [==============================] - 2s 2s/step\n",
      "1/1 [==============================] - 2s 2s/step\n",
      "1/1 [==============================] - 2s 2s/step\n",
      "1/1 [==============================] - 2s 2s/step\n",
      "1/1 [==============================] - 2s 2s/step\n",
      "1/1 [==============================] - 2s 2s/step\n",
      "1/1 [==============================] - 2s 2s/step\n",
      "1/1 [==============================] - 2s 2s/step\n",
      "1/1 [==============================] - 2s 2s/step\n",
      "1/1 [==============================] - 2s 2s/step\n",
      "1/1 [==============================] - 2s 2s/step\n",
      "1/1 [==============================] - 2s 2s/step\n",
      "1/1 [==============================] - 2s 2s/step\n",
      "1/1 [==============================] - 2s 2s/step\n",
      "1/1 [==============================] - 2s 2s/step\n",
      "1/1 [==============================] - 2s 2s/step\n",
      "1/1 [==============================] - 2s 2s/step\n",
      "1/1 [==============================] - 2s 2s/step\n",
      "1/1 [==============================] - 2s 2s/step\n",
      "1/1 [==============================] - 2s 2s/step\n",
      "1/1 [==============================] - 2s 2s/step\n",
      "1/1 [==============================] - 2s 2s/step\n",
      "1/1 [==============================] - 2s 2s/step\n",
      "1/1 [==============================] - 2s 2s/step\n",
      "1/1 [==============================] - 2s 2s/step\n",
      "1/1 [==============================] - 2s 2s/step\n",
      "1/1 [==============================] - 2s 2s/step\n",
      "1/1 [==============================] - 2s 2s/step\n",
      "1/1 [==============================] - 2s 2s/step\n",
      "1/1 [==============================] - 2s 2s/step\n",
      "1/1 [==============================] - 2s 2s/step\n",
      "1/1 [==============================] - 2s 2s/step\n",
      "1/1 [==============================] - 2s 2s/step\n",
      "              precision    recall  f1-score   support\n",
      "\n",
      "           0       1.00      1.00      1.00       573\n",
      "           1       0.98      0.99      0.99       472\n",
      "           2       0.99      0.99      0.99       555\n",
      "\n",
      "    accuracy                           0.99      1600\n",
      "   macro avg       0.99      0.99      0.99      1600\n",
      "weighted avg       0.99      0.99      0.99      1600\n",
      "\n"
     ]
    }
   ],
   "source": [
    "from sklearn.metrics import classification_report\n",
    "import numpy as np\n",
    "\n",
    "# Assuming 'test' is a TensorFlow dataset\n",
    "# Replace 'your_model' with your actual trained model\n",
    "\n",
    "\n",
    "# Initialize empty arrays to store predictions and true labels\n",
    "all_y_pred = np.array([], dtype=int)\n",
    "all_true_labels = np.array([], dtype=int)\n",
    "\n",
    "# Iterate through test batches\n",
    "for batch in test.as_numpy_iterator():\n",
    "    # Assuming 'model' is your trained model\n",
    "    Y_pred_batch = model.predict(batch[0])  # assuming batch[0] contains input data\n",
    "    y_pred_batch = np.argmax(Y_pred_batch, axis=1)\n",
    "    \n",
    "    # Concatenate batch predictions and true labels to the overall arrays\n",
    "    all_y_pred = np.concatenate([all_y_pred, y_pred_batch])\n",
    "    all_true_labels = np.concatenate([all_true_labels, batch[1]])  # assuming batch[1] contains true labels\n",
    "\n",
    "# After processing all test batches, print the classification report\n",
    "print(classification_report(all_true_labels, all_y_pred))\n"
   ]
  },
  {
   "cell_type": "code",
   "execution_count": null,
   "id": "677b4b73-7e8a-43d4-93ec-03f7b13e8bec",
   "metadata": {
    "tags": []
   },
   "outputs": [],
   "source": [
    "pip install seaborn"
   ]
  },
  {
   "cell_type": "code",
   "execution_count": 16,
   "id": "ede8f580-f018-441a-9a9c-a69168c47c29",
   "metadata": {
    "tags": []
   },
   "outputs": [
    {
     "data": {
      "image/png": "[encoded data removed]",
      "text/plain": [
       "<Figure size 800x600 with 2 Axes>"
      ]
     },
     "metadata": {},
     "output_type": "display_data"
    }
   ],
   "source": [
    "from sklearn.metrics import confusion_matrix\n",
    "import seaborn as sns\n",
    "import matplotlib.pyplot as plt\n",
    "\n",
    "# Assuming 'all_true_labels' and 'all_y_pred' are already defined\n",
    "\n",
    "# Compute confusion matrix\n",
    "cm = confusion_matrix(all_true_labels, all_y_pred)\n",
    "\n",
    "# Plot confusion matrix using seaborn\n",
    "plt.figure(figsize=(8, 6))\n",
    "sns.heatmap(cm, annot=True, fmt='d', cmap='Blues', xticklabels=['Class 0', 'Class 1', 'Class 2'], yticklabels=['Class 0', 'Class 1', 'Class 2'])\n",
    "plt.title('Confusion Matrix')\n",
    "plt.xlabel('Predicted')\n",
    "plt.ylabel('True')\n",
    "plt.show()"
   ]
  },
  {
   "cell_type": "code",
   "execution_count": null,
   "id": "69e5475c-9562-43bb-a1c5-308b16e1a085",
   "metadata": {},
   "outputs": [],
   "source": []
  }
 ],
 "metadata": {
  "kernelspec": {
   "display_name": "Banana",
   "language": "python",
   "name": "banana"
  },
  "language_info": {
   "codemirror_mode": {
    "name": "ipython",
    "version": 3
   },
   "file_extension": ".py",
   "mimetype": "text/x-python",
   "name": "python",
   "nbconvert_exporter": "python",
   "pygments_lexer": "ipython3",
   "version": "3.10.13"
  }
 },
 "nbformat": 4,
 "nbformat_minor": 5
}
