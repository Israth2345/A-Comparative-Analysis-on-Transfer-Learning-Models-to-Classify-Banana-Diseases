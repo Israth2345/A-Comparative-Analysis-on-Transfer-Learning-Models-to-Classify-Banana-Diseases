{
 "cells": [
  {
   "cell_type": "code",
   "execution_count": null,
   "metadata": {
    "colab": {
     "base_uri": "https://localhost:8080/"
    },
    "id": "sH6te_SIyAZK",
    "outputId": "9a475775-04c9-4726-8ddd-8aefe8e51d43"
   },
   "outputs": [
    {
     "name": "stdout",
     "output_type": "stream",
     "text": [
      "GPU: Tesla T4\n",
      "GPU Memory: 14.75 GB\n"
     ]
    }
   ],
   "source": [
    "import torch\n",
    "\n",
    "# Check if GPU is available\n",
    "if torch.cuda.is_available():\n",
    "    # Get the GPU device\n",
    "    device = torch.device(\"cuda\")\n",
    "\n",
    "    # Get the GPU name\n",
    "    gpu_name = torch.cuda.get_device_name(0)\n",
    "\n",
    "    # Get the GPU memory in bytes\n",
    "    gpu_memory_bytes = torch.cuda.get_device_properties(0).total_memory\n",
    "\n",
    "    # Convert bytes to gigabytes\n",
    "    gpu_memory_gb = gpu_memory_bytes / (1024 ** 3)\n",
    "\n",
    "    print(f\"GPU: {gpu_name}\")\n",
    "    print(f\"GPU Memory: {gpu_memory_gb:.2f} GB\")\n",
    "else:\n",
    "    print(\"No GPU available. Switch to a GPU runtime in Colab.\")"
   ]
  },
  {
   "cell_type": "code",
   "execution_count": 1,
   "metadata": {},
   "outputs": [
    {
     "name": "stdout",
     "output_type": "stream",
     "text": [
      "Name: scikit-learn\n",
      "Version: 1.3.2\n",
      "Summary: A set of python modules for machine learning and data mining\n",
      "Home-page: http://scikit-learn.org\n",
      "Author: \n",
      "Author-email: \n",
      "License: new BSD\n",
      "Location: f:\\cse475\\banana\\lib\\site-packages\n",
      "Requires: joblib, numpy, scipy, threadpoolctl\n",
      "Required-by: \n",
      "Note: you may need to restart the kernel to use updated packages.\n"
     ]
    }
   ],
   "source": [
    "pip show scikit-learn"
   ]
  },
  {
   "cell_type": "code",
   "execution_count": 2,
   "metadata": {},
   "outputs": [],
   "source": [
    "import tensorflow as tf"
   ]
  },
  {
   "cell_type": "code",
   "execution_count": 3,
   "metadata": {},
   "outputs": [
    {
     "name": "stdout",
     "output_type": "stream",
     "text": [
      "WARNING:tensorflow:From C:\\Users\\USER\\AppData\\Local\\Temp\\ipykernel_21440\\3424412346.py:4: is_gpu_available (from tensorflow.python.framework.test_util) is deprecated and will be removed in a future version.\n",
      "Instructions for updating:\n",
      "Use `tf.config.list_physical_devices('GPU')` instead.\n",
      "GPU Model: NVIDIA GeForce GTX 1650\n",
      "Oghhhhhhfg\n"
     ]
    }
   ],
   "source": [
    "import os\n",
    "\n",
    "# Check if a GPU is available\n",
    "gpu_available = tf.test.is_gpu_available()\n",
    "\n",
    "if gpu_available:\n",
    "    # Get GPU details using system command\n",
    "    command = \"nvidia-smi --query-gpu=gpu_name --format=csv,noheader\"\n",
    "    gpu_model = os.popen(command).read().strip()\n",
    "\n",
    "    if gpu_model:\n",
    "        print(\"GPU Model:\", gpu_model)\n",
    "print('Oghhhhhhfg')"
   ]
  },
  {
   "cell_type": "code",
   "execution_count": null,
   "metadata": {},
   "outputs": [],
   "source": [
    "#loading dataset"
   ]
  },
  {
   "cell_type": "code",
   "execution_count": 3,
   "metadata": {
    "colab": {
     "base_uri": "https://localhost:8080/"
    },
    "id": "F-9O0c4Ryb3D",
    "outputId": "db112f28-6d30-4109-c3aa-5eeb91d86dff"
   },
   "outputs": [
    {
     "name": "stdout",
     "output_type": "stream",
     "text": [
      "Found 16091 files belonging to 3 classes.\n"
     ]
    }
   ],
   "source": [
    "datauc = tf.keras.utils.image_dataset_from_directory('data', batch_size = 32, image_size = (224,224))"
   ]
  },
  {
   "cell_type": "code",
   "execution_count": 4,
   "metadata": {
    "id": "WdGEAVv3ytfb"
   },
   "outputs": [],
   "source": [
    "from tensorflow.keras.applications.inception_resnet_v2 import preprocess_input"
   ]
  },
  {
   "cell_type": "code",
   "execution_count": null,
   "metadata": {},
   "outputs": [],
   "source": [
    "#normalization"
   ]
  },
  {
   "cell_type": "code",
   "execution_count": 5,
   "metadata": {
    "id": "4e3aCFq0yuiM"
   },
   "outputs": [],
   "source": [
    "def preprocess_images(images, labels):\n",
    "    images = preprocess_input(images)\n",
    "    return images, labels\n",
    "\n",
    "# Apply normalization to the dataset\n",
    "datauc_normalized = datauc.map(preprocess_images)"
   ]
  },
  {
   "cell_type": "code",
   "execution_count": null,
   "metadata": {},
   "outputs": [],
   "source": [
    "#visualization"
   ]
  },
  {
   "cell_type": "code",
   "execution_count": 8,
   "metadata": {
    "id": "O7U1OkrXy3kU"
   },
   "outputs": [],
   "source": [
    "import numpy as np\n",
    "from matplotlib import pyplot as plt"
   ]
  },
  {
   "cell_type": "code",
   "execution_count": 9,
   "metadata": {
    "id": "9Js98fgPy_Hr"
   },
   "outputs": [],
   "source": [
    "data_iterator = datauc_normalized.as_numpy_iterator()"
   ]
  },
  {
   "cell_type": "code",
   "execution_count": 10,
   "metadata": {
    "id": "HZwj66hty4Hs"
   },
   "outputs": [],
   "source": [
    "batch = data_iterator.next()"
   ]
  },
  {
   "cell_type": "code",
   "execution_count": 11,
   "metadata": {
    "colab": {
     "base_uri": "https://localhost:8080/"
    },
    "id": "5UvFafOyzCzd",
    "outputId": "bc29f83b-41cb-4787-9658-b39cf2e607be"
   },
   "outputs": [
    {
     "data": {
      "text/plain": [
       "-1.0"
      ]
     },
     "execution_count": 11,
     "metadata": {},
     "output_type": "execute_result"
    }
   ],
   "source": [
    "batch[0].min()"
   ]
  },
  {
   "cell_type": "code",
   "execution_count": null,
   "metadata": {},
   "outputs": [],
   "source": [
    "#splitting"
   ]
  },
  {
   "cell_type": "code",
   "execution_count": 6,
   "metadata": {
    "id": "O_-IHmWyzGxc"
   },
   "outputs": [],
   "source": [
    "train_size = int(len(datauc_normalized) * 0.7)\n",
    "\n",
    "val_size = int(len(datauc_normalized) * 0.2)\n",
    "\n",
    "test_size = int(len(datauc_normalized) * 0.1)"
   ]
  },
  {
   "cell_type": "code",
   "execution_count": 7,
   "metadata": {
    "id": "5ed3uzg3zI2n"
   },
   "outputs": [],
   "source": [
    "train = datauc_normalized.take(train_size)\n",
    "val = datauc_normalized.skip(train_size).take(val_size)\n",
    "test = datauc_normalized.skip(train_size + val_size).take(test_size)"
   ]
  },
  {
   "cell_type": "code",
   "execution_count": null,
   "metadata": {},
   "outputs": [],
   "source": [
    "#dependencies"
   ]
  },
  {
   "cell_type": "code",
   "execution_count": 14,
   "metadata": {
    "id": "ZNUISckgzLRM"
   },
   "outputs": [],
   "source": [
    "from tensorflow.keras.models import Sequential\n",
    "from tensorflow.keras.layers import Conv2D, MaxPooling2D, Dense\n",
    "from tensorflow.keras.applications import InceptionResNetV2\n",
    "from tensorflow.keras.optimizers import Adam\n",
    "from tensorflow.keras.layers import Dense, Flatten, Dropout\n",
    "from tensorflow.keras.callbacks import ModelCheckpoint, History\n",
    "import matplotlib.pyplot as plt\n",
    "from tensorflow.keras.models import load_model\n",
    "from keras.callbacks import EarlyStopping\n"
   ]
  },
  {
   "cell_type": "code",
   "execution_count": 15,
   "metadata": {
    "colab": {
     "base_uri": "https://localhost:8080/"
    },
    "id": "Pj5lr7dJzbdL",
    "outputId": "62254b7d-79e3-4ead-bb37-d9a31a2fbf2f"
   },
   "outputs": [
    {
     "name": "stdout",
     "output_type": "stream",
     "text": [
      "Downloading data from https://storage.googleapis.com/tensorflow/keras-applications/inception_resnet_v2/inception_resnet_v2_weights_tf_dim_ordering_tf_kernels_notop.h5\n",
      "219055592/219055592 [==============================] - 21s 0us/step\n"
     ]
    }
   ],
   "source": [
    "base_model = InceptionResNetV2(weights='imagenet', include_top=False, input_shape=(224, 224, 3))"
   ]
  },
  {
   "cell_type": "code",
   "execution_count": 16,
   "metadata": {
    "id": "JcJM242Kzm_D"
   },
   "outputs": [],
   "source": [
    "model = Sequential()"
   ]
  },
  {
   "cell_type": "code",
   "execution_count": 17,
   "metadata": {
    "id": "EOvHioXSzq5L"
   },
   "outputs": [],
   "source": [
    "from keras.regularizers import l2"
   ]
  },
  {
   "cell_type": "code",
   "execution_count": null,
   "metadata": {},
   "outputs": [],
   "source": [
    "#model custoozation"
   ]
  },
  {
   "cell_type": "code",
   "execution_count": 18,
   "metadata": {
    "id": "RNf6iDUrzuwD"
   },
   "outputs": [],
   "source": [
    "model.add(base_model)\n",
    "model.add(Flatten())\n",
    "model.add(Dense(256, activation='relu', kernel_regularizer=l2(0.0000018)))\n",
    "model.add(Dropout(0.20))\n",
    "model.add(Dense(128, activation='relu', kernel_regularizer=l2(0.0018)))\n",
    "model.add(Dropout(0.20))\n",
    "model.add(Dense(64, activation='relu', kernel_regularizer=l2(0.0018)))\n",
    "model.add(Dense(3, activation='softmax'))\n",
    "# Freeze the layers of the VGG19 base\n",
    "for layer in base_model.layers:\n",
    "    layer.trainable = False"
   ]
  },
  {
   "cell_type": "code",
   "execution_count": null,
   "metadata": {},
   "outputs": [],
   "source": [
    "#compilation"
   ]
  },
  {
   "cell_type": "code",
   "execution_count": 19,
   "metadata": {
    "id": "tj5J8IVmz2hb"
   },
   "outputs": [],
   "source": [
    "model.compile(optimizer='adam', loss='sparse_categorical_crossentropy', metrics=['accuracy'])"
   ]
  },
  {
   "cell_type": "code",
   "execution_count": null,
   "metadata": {},
   "outputs": [],
   "source": [
    "#training"
   ]
  },
  {
   "cell_type": "code",
   "execution_count": 20,
   "metadata": {
    "colab": {
     "base_uri": "https://localhost:8080/"
    },
    "id": "fwjJkcjDz5hL",
    "outputId": "dafb5bd9-3c92-46fc-aa2a-17068a1bbb7a"
   },
   "outputs": [
    {
     "name": "stdout",
     "output_type": "stream",
     "text": [
      "Epoch 1/50\n",
      "352/352 [==============================] - 379s 980ms/step - loss: 0.9118 - accuracy: 0.8769 - val_loss: 0.4074 - val_accuracy: 0.9466\n",
      "Epoch 2/50\n",
      "352/352 [==============================] - 336s 953ms/step - loss: 0.3779 - accuracy: 0.9491 - val_loss: 0.3212 - val_accuracy: 0.9597\n",
      "Epoch 3/50\n",
      "352/352 [==============================] - 327s 926ms/step - loss: 0.3083 - accuracy: 0.9617 - val_loss: 0.2727 - val_accuracy: 0.9678\n",
      "Epoch 4/50\n",
      "352/352 [==============================] - 327s 927ms/step - loss: 0.2535 - accuracy: 0.9711 - val_loss: 0.2482 - val_accuracy: 0.9691\n",
      "Epoch 5/50\n",
      "352/352 [==============================] - 328s 930ms/step - loss: 0.2126 - accuracy: 0.9761 - val_loss: 0.2090 - val_accuracy: 0.9719\n",
      "Epoch 6/50\n",
      "352/352 [==============================] - 327s 926ms/step - loss: 0.1729 - accuracy: 0.9828 - val_loss: 0.1998 - val_accuracy: 0.9731\n",
      "Epoch 7/50\n",
      "352/352 [==============================] - 327s 926ms/step - loss: 0.1616 - accuracy: 0.9819 - val_loss: 0.1938 - val_accuracy: 0.9688\n",
      "Epoch 8/50\n",
      "352/352 [==============================] - 334s 947ms/step - loss: 0.1312 - accuracy: 0.9839 - val_loss: 0.1614 - val_accuracy: 0.9734\n",
      "Epoch 9/50\n",
      "352/352 [==============================] - 331s 941ms/step - loss: 0.1109 - accuracy: 0.9866 - val_loss: 0.1627 - val_accuracy: 0.9709\n",
      "Epoch 10/50\n",
      "352/352 [==============================] - 331s 942ms/step - loss: 0.1032 - accuracy: 0.9835 - val_loss: 0.1463 - val_accuracy: 0.9759\n",
      "Epoch 11/50\n",
      "352/352 [==============================] - 330s 936ms/step - loss: 0.0908 - accuracy: 0.9864 - val_loss: 0.1425 - val_accuracy: 0.9741\n",
      "Epoch 12/50\n",
      "352/352 [==============================] - 328s 934ms/step - loss: 0.0770 - accuracy: 0.9885 - val_loss: 0.1531 - val_accuracy: 0.9656\n",
      "Epoch 13/50\n",
      "352/352 [==============================] - 332s 940ms/step - loss: 0.0700 - accuracy: 0.9886 - val_loss: 0.1268 - val_accuracy: 0.9712\n",
      "Epoch 14/50\n",
      "352/352 [==============================] - 330s 939ms/step - loss: 0.0621 - accuracy: 0.9890 - val_loss: 0.1619 - val_accuracy: 0.9663\n",
      "Epoch 15/50\n",
      "352/352 [==============================] - 331s 938ms/step - loss: 0.0550 - accuracy: 0.9902 - val_loss: 0.1288 - val_accuracy: 0.9772\n",
      "Epoch 16/50\n",
      "352/352 [==============================] - 332s 940ms/step - loss: 0.0491 - accuracy: 0.9902 - val_loss: 0.1450 - val_accuracy: 0.9697\n",
      "Epoch 17/50\n",
      "352/352 [==============================] - 331s 941ms/step - loss: 0.0478 - accuracy: 0.9901 - val_loss: 0.1162 - val_accuracy: 0.9766\n",
      "Epoch 18/50\n",
      "352/352 [==============================] - 331s 942ms/step - loss: 0.0397 - accuracy: 0.9920 - val_loss: 0.0990 - val_accuracy: 0.9797\n",
      "Epoch 19/50\n",
      "352/352 [==============================] - 331s 938ms/step - loss: 0.0464 - accuracy: 0.9898 - val_loss: 0.1068 - val_accuracy: 0.9747\n",
      "Epoch 20/50\n",
      "352/352 [==============================] - 333s 945ms/step - loss: 0.0358 - accuracy: 0.9928 - val_loss: 0.1100 - val_accuracy: 0.9778\n",
      "Epoch 21/50\n",
      "352/352 [==============================] - 332s 943ms/step - loss: 0.0406 - accuracy: 0.9916 - val_loss: 0.1001 - val_accuracy: 0.9734\n",
      "Epoch 22/50\n",
      "352/352 [==============================] - 333s 945ms/step - loss: 0.0325 - accuracy: 0.9932 - val_loss: 0.1534 - val_accuracy: 0.9784\n",
      "Epoch 23/50\n",
      "352/352 [==============================] - 334s 948ms/step - loss: 0.0305 - accuracy: 0.9933 - val_loss: 0.2269 - val_accuracy: 0.9550\n",
      "Epoch 24/50\n",
      "352/352 [==============================] - 335s 950ms/step - loss: 0.0337 - accuracy: 0.9926 - val_loss: 0.1251 - val_accuracy: 0.9722\n",
      "Epoch 25/50\n",
      "352/352 [==============================] - 335s 950ms/step - loss: 0.0401 - accuracy: 0.9910 - val_loss: 0.1052 - val_accuracy: 0.9712\n",
      "Epoch 26/50\n",
      "352/352 [==============================] - 335s 949ms/step - loss: 0.0279 - accuracy: 0.9947 - val_loss: 0.1541 - val_accuracy: 0.9766\n",
      "Epoch 27/50\n",
      "352/352 [==============================] - 337s 955ms/step - loss: 0.0295 - accuracy: 0.9946 - val_loss: 0.1430 - val_accuracy: 0.9747\n",
      "Epoch 28/50\n",
      "352/352 [==============================] - 337s 954ms/step - loss: 0.0290 - accuracy: 0.9943 - val_loss: 0.1527 - val_accuracy: 0.9741\n",
      "Epoch 29/50\n",
      "352/352 [==============================] - 338s 957ms/step - loss: 0.0258 - accuracy: 0.9948 - val_loss: 0.1344 - val_accuracy: 0.9775\n",
      "Epoch 30/50\n",
      "352/352 [==============================] - 339s 960ms/step - loss: 0.0327 - accuracy: 0.9937 - val_loss: 0.1423 - val_accuracy: 0.9697\n",
      "Epoch 31/50\n",
      "352/352 [==============================] - 338s 959ms/step - loss: 0.0339 - accuracy: 0.9923 - val_loss: 0.1001 - val_accuracy: 0.9747\n",
      "Epoch 32/50\n",
      "352/352 [==============================] - 338s 957ms/step - loss: 0.0348 - accuracy: 0.9922 - val_loss: 0.1442 - val_accuracy: 0.9741\n",
      "Epoch 33/50\n",
      "352/352 [==============================] - 338s 960ms/step - loss: 0.0253 - accuracy: 0.9954 - val_loss: 0.1121 - val_accuracy: 0.9769\n",
      "Epoch 34/50\n",
      "352/352 [==============================] - 339s 961ms/step - loss: 0.0305 - accuracy: 0.9945 - val_loss: 0.1120 - val_accuracy: 0.9766\n",
      "Epoch 35/50\n",
      "352/352 [==============================] - 337s 954ms/step - loss: 0.0264 - accuracy: 0.9944 - val_loss: 0.1823 - val_accuracy: 0.9769\n",
      "Epoch 36/50\n",
      "352/352 [==============================] - 340s 963ms/step - loss: 0.0287 - accuracy: 0.9950 - val_loss: 0.1068 - val_accuracy: 0.9741\n",
      "Epoch 37/50\n",
      "352/352 [==============================] - 341s 966ms/step - loss: 0.0230 - accuracy: 0.9967 - val_loss: 0.1409 - val_accuracy: 0.9784\n",
      "Epoch 38/50\n",
      "352/352 [==============================] - 340s 963ms/step - loss: 0.0254 - accuracy: 0.9960 - val_loss: 0.1752 - val_accuracy: 0.9603\n",
      "Epoch 39/50\n",
      "352/352 [==============================] - 341s 965ms/step - loss: 0.0297 - accuracy: 0.9940 - val_loss: 0.1434 - val_accuracy: 0.9750\n",
      "Epoch 40/50\n",
      "352/352 [==============================] - 342s 969ms/step - loss: 0.0343 - accuracy: 0.9940 - val_loss: 0.1589 - val_accuracy: 0.9725\n",
      "Epoch 41/50\n",
      "352/352 [==============================] - 341s 966ms/step - loss: 0.0246 - accuracy: 0.9957 - val_loss: 0.1502 - val_accuracy: 0.9766\n",
      "Epoch 42/50\n",
      "352/352 [==============================] - 339s 961ms/step - loss: 0.0244 - accuracy: 0.9972 - val_loss: 0.1362 - val_accuracy: 0.9769\n",
      "Epoch 43/50\n",
      "352/352 [==============================] - 338s 957ms/step - loss: 0.0273 - accuracy: 0.9957 - val_loss: 0.1395 - val_accuracy: 0.9778\n",
      "Epoch 44/50\n",
      "352/352 [==============================] - 336s 953ms/step - loss: 0.0286 - accuracy: 0.9952 - val_loss: 0.1211 - val_accuracy: 0.9781\n",
      "Epoch 45/50\n",
      "352/352 [==============================] - 338s 957ms/step - loss: 0.0210 - accuracy: 0.9974 - val_loss: 0.1624 - val_accuracy: 0.9703\n",
      "Epoch 46/50\n",
      "352/352 [==============================] - 338s 958ms/step - loss: 0.0224 - accuracy: 0.9972 - val_loss: 0.1519 - val_accuracy: 0.9766\n",
      "Epoch 47/50\n",
      "352/352 [==============================] - 340s 963ms/step - loss: 0.0279 - accuracy: 0.9955 - val_loss: 0.1230 - val_accuracy: 0.9737\n",
      "Epoch 48/50\n",
      "352/352 [==============================] - 341s 967ms/step - loss: 0.0302 - accuracy: 0.9942 - val_loss: 0.1422 - val_accuracy: 0.9741\n",
      "Epoch 49/50\n",
      "352/352 [==============================] - 340s 962ms/step - loss: 0.0245 - accuracy: 0.9964 - val_loss: 0.1155 - val_accuracy: 0.9753\n",
      "Epoch 50/50\n",
      "352/352 [==============================] - 338s 958ms/step - loss: 0.0243 - accuracy: 0.9966 - val_loss: 0.1483 - val_accuracy: 0.9772\n"
     ]
    }
   ],
   "source": [
    "history = History()\n",
    "hist = model.fit(train, epochs=50, validation_data=val, callbacks=[history])"
   ]
  },
  {
   "cell_type": "code",
   "execution_count": 21,
   "metadata": {
    "id": "_jtSaQgI0PtU"
   },
   "outputs": [
    {
     "data": {
      "image/png": "[encoded data removed]",
      "text/plain": [
       "<Figure size 640x480 with 1 Axes>"
      ]
     },
     "metadata": {},
     "output_type": "display_data"
    }
   ],
   "source": [
    "plt.plot(hist.history['loss'], label='Training Loss')\n",
    "plt.plot(hist.history['val_loss'], label='Validation Loss')\n",
    "plt.xlabel('Epoch')\n",
    "plt.ylabel('Loss')\n",
    "plt.legend()\n",
    "plt.show()"
   ]
  },
  {
   "cell_type": "code",
   "execution_count": 22,
   "metadata": {
    "id": "qbW5Cqpm0UEk"
   },
   "outputs": [
    {
     "name": "stdout",
     "output_type": "stream",
     "text": [
      "1/1 [==============================] - 7s 7s/step\n",
      "1/1 [==============================] - 0s 98ms/step\n",
      "1/1 [==============================] - 0s 99ms/step\n",
      "1/1 [==============================] - 0s 100ms/step\n",
      "1/1 [==============================] - 0s 98ms/step\n",
      "1/1 [==============================] - 0s 109ms/step\n",
      "1/1 [==============================] - 0s 100ms/step\n",
      "1/1 [==============================] - 2s 2s/step\n",
      "1/1 [==============================] - 0s 108ms/step\n",
      "1/1 [==============================] - 0s 104ms/step\n",
      "1/1 [==============================] - 0s 107ms/step\n",
      "1/1 [==============================] - 0s 103ms/step\n",
      "1/1 [==============================] - 1s 1s/step\n",
      "1/1 [==============================] - 0s 105ms/step\n",
      "1/1 [==============================] - 0s 103ms/step\n",
      "1/1 [==============================] - 0s 91ms/step\n",
      "1/1 [==============================] - 0s 97ms/step\n",
      "1/1 [==============================] - 1s 1s/step\n",
      "1/1 [==============================] - 0s 96ms/step\n",
      "1/1 [==============================] - 0s 106ms/step\n",
      "1/1 [==============================] - 0s 101ms/step\n",
      "1/1 [==============================] - 0s 94ms/step\n",
      "1/1 [==============================] - 0s 99ms/step\n",
      "1/1 [==============================] - 0s 111ms/step\n",
      "1/1 [==============================] - 1s 1s/step\n",
      "1/1 [==============================] - 0s 96ms/step\n",
      "1/1 [==============================] - 0s 102ms/step\n",
      "1/1 [==============================] - 0s 101ms/step\n",
      "1/1 [==============================] - 0s 100ms/step\n",
      "1/1 [==============================] - 0s 99ms/step\n",
      "1/1 [==============================] - 0s 97ms/step\n",
      "1/1 [==============================] - 0s 92ms/step\n",
      "1/1 [==============================] - 0s 88ms/step\n",
      "1/1 [==============================] - 0s 93ms/step\n",
      "1/1 [==============================] - 0s 89ms/step\n",
      "1/1 [==============================] - 0s 93ms/step\n",
      "1/1 [==============================] - 0s 95ms/step\n",
      "1/1 [==============================] - 0s 95ms/step\n",
      "1/1 [==============================] - 0s 99ms/step\n",
      "1/1 [==============================] - 1s 1s/step\n",
      "1/1 [==============================] - 0s 90ms/step\n",
      "1/1 [==============================] - 0s 93ms/step\n",
      "1/1 [==============================] - 0s 95ms/step\n",
      "1/1 [==============================] - 0s 89ms/step\n",
      "1/1 [==============================] - 0s 92ms/step\n",
      "1/1 [==============================] - 0s 96ms/step\n",
      "1/1 [==============================] - 0s 95ms/step\n",
      "1/1 [==============================] - 0s 104ms/step\n",
      "1/1 [==============================] - 0s 87ms/step\n",
      "1/1 [==============================] - 1s 1s/step\n",
      "Test Accuracy:  tf.Tensor(0.9725, shape=(), dtype=float32)\n"
     ]
    }
   ],
   "source": [
    "from tensorflow.keras.metrics import SparseCategoricalAccuracy\n",
    "sparse_accuracy = SparseCategoricalAccuracy()\n",
    "for bat in test.as_numpy_iterator():\n",
    "    X, y = bat\n",
    "    yhat = model.predict(X)\n",
    "    sparse_accuracy.update_state(y, yhat)\n",
    "print(\"Test Accuracy: \", sparse_accuracy.result())"
   ]
  },
  {
   "cell_type": "code",
   "execution_count": null,
   "metadata": {},
   "outputs": [],
   "source": [
    "#saving the model"
   ]
  },
  {
   "cell_type": "code",
   "execution_count": 23,
   "metadata": {
    "id": "Iaz9gN6n0aJL"
   },
   "outputs": [],
   "source": [
    "import os\n",
    "model.save(os.path.join('models','inceptin.h5'))"
   ]
  },
  {
   "cell_type": "code",
   "execution_count": null,
   "metadata": {},
   "outputs": [],
   "source": [
    "#evaluation"
   ]
  },
  {
   "cell_type": "code",
   "execution_count": 8,
   "metadata": {},
   "outputs": [],
   "source": [
    "import os\n",
    "from tensorflow.keras.models import load_model"
   ]
  },
  {
   "cell_type": "code",
   "execution_count": 9,
   "metadata": {},
   "outputs": [],
   "source": [
    "model_path = os.path.join('models', 'inceptin.h5')\n",
    "\n",
    "# Load the trained model\n",
    "model = load_model(model_path)"
   ]
  },
  {
   "cell_type": "code",
   "execution_count": 10,
   "metadata": {},
   "outputs": [
    {
     "name": "stdout",
     "output_type": "stream",
     "text": [
      "1/1 [==============================] - 22s 22s/step\n",
      "1/1 [==============================] - 1s 1s/step\n",
      "1/1 [==============================] - 0s 112ms/step\n",
      "1/1 [==============================] - 0s 121ms/step\n",
      "1/1 [==============================] - 0s 102ms/step\n",
      "1/1 [==============================] - 0s 110ms/step\n",
      "1/1 [==============================] - 0s 105ms/step\n",
      "1/1 [==============================] - 0s 96ms/step\n",
      "1/1 [==============================] - 0s 93ms/step\n",
      "1/1 [==============================] - 0s 109ms/step\n",
      "1/1 [==============================] - 0s 112ms/step\n",
      "1/1 [==============================] - 0s 103ms/step\n",
      "1/1 [==============================] - 0s 105ms/step\n",
      "1/1 [==============================] - 0s 104ms/step\n",
      "1/1 [==============================] - 0s 115ms/step\n",
      "1/1 [==============================] - 0s 113ms/step\n",
      "1/1 [==============================] - 0s 113ms/step\n",
      "1/1 [==============================] - 0s 113ms/step\n",
      "1/1 [==============================] - 1s 1s/step\n",
      "1/1 [==============================] - 0s 112ms/step\n",
      "1/1 [==============================] - 0s 114ms/step\n",
      "1/1 [==============================] - 0s 107ms/step\n",
      "1/1 [==============================] - 0s 108ms/step\n",
      "1/1 [==============================] - 0s 101ms/step\n",
      "1/1 [==============================] - 0s 101ms/step\n",
      "1/1 [==============================] - 0s 112ms/step\n",
      "1/1 [==============================] - 0s 115ms/step\n",
      "1/1 [==============================] - 0s 103ms/step\n",
      "1/1 [==============================] - 0s 105ms/step\n",
      "1/1 [==============================] - 0s 113ms/step\n",
      "1/1 [==============================] - 0s 99ms/step\n",
      "1/1 [==============================] - 0s 106ms/step\n",
      "1/1 [==============================] - 0s 104ms/step\n",
      "1/1 [==============================] - 0s 101ms/step\n",
      "1/1 [==============================] - 0s 97ms/step\n",
      "1/1 [==============================] - 0s 114ms/step\n",
      "1/1 [==============================] - 0s 103ms/step\n",
      "1/1 [==============================] - 0s 98ms/step\n",
      "1/1 [==============================] - 1s 1s/step\n",
      "1/1 [==============================] - 0s 97ms/step\n",
      "1/1 [==============================] - 0s 96ms/step\n",
      "1/1 [==============================] - 0s 97ms/step\n",
      "1/1 [==============================] - 0s 103ms/step\n",
      "1/1 [==============================] - 0s 109ms/step\n",
      "1/1 [==============================] - 0s 102ms/step\n",
      "1/1 [==============================] - 0s 102ms/step\n",
      "1/1 [==============================] - 0s 93ms/step\n",
      "1/1 [==============================] - 0s 103ms/step\n",
      "1/1 [==============================] - 0s 100ms/step\n",
      "1/1 [==============================] - 0s 93ms/step\n",
      "              precision    recall  f1-score   support\n",
      "\n",
      "           0       0.98      0.99      0.99       565\n",
      "           1       0.98      0.98      0.98       465\n",
      "           2       0.99      0.99      0.99       570\n",
      "\n",
      "    accuracy                           0.99      1600\n",
      "   macro avg       0.99      0.99      0.99      1600\n",
      "weighted avg       0.99      0.99      0.99      1600\n",
      "\n"
     ]
    }
   ],
   "source": [
    "from sklearn.metrics import classification_report\n",
    "import numpy as np\n",
    "\n",
    "# Assuming 'test' is a TensorFlow dataset\n",
    "# Replace 'your_model' with your actual trained model\n",
    "\n",
    "\n",
    "# Initialize empty arrays to store predictions and true labels\n",
    "all_y_pred = np.array([], dtype=int)\n",
    "all_true_labels = np.array([], dtype=int)\n",
    "\n",
    "# Iterate through test batches\n",
    "for batch in test.as_numpy_iterator():\n",
    "    # Assuming 'model' is your trained model\n",
    "    Y_pred_batch = model.predict(batch[0])  # assuming batch[0] contains input data\n",
    "    y_pred_batch = np.argmax(Y_pred_batch, axis=1)\n",
    "    \n",
    "    # Concatenate batch predictions and true labels to the overall arrays\n",
    "    all_y_pred = np.concatenate([all_y_pred, y_pred_batch])\n",
    "    all_true_labels = np.concatenate([all_true_labels, batch[1]])  # assuming batch[1] contains true labels\n",
    "\n",
    "# After processing all test batches, print the classification report\n",
    "print(classification_report(all_true_labels, all_y_pred))\n"
   ]
  },
  {
   "cell_type": "code",
   "execution_count": null,
   "metadata": {},
   "outputs": [],
   "source": [
    "pip install seaborn"
   ]
  },
  {
   "cell_type": "code",
   "execution_count": 13,
   "metadata": {},
   "outputs": [
    {
     "data": {
      "image/png": "[encoded data removed]",
      "text/plain": [
       "<Figure size 800x600 with 2 Axes>"
      ]
     },
     "metadata": {},
     "output_type": "display_data"
    }
   ],
   "source": [
    "from sklearn.metrics import confusion_matrix\n",
    "import seaborn as sns\n",
    "import matplotlib.pyplot as plt\n",
    "\n",
    "# Assuming 'all_true_labels' and 'all_y_pred' are already defined\n",
    "\n",
    "# Compute confusion matrix\n",
    "cm = confusion_matrix(all_true_labels, all_y_pred)\n",
    "\n",
    "# Plot confusion matrix using seaborn\n",
    "plt.figure(figsize=(8, 6))\n",
    "sns.heatmap(cm, annot=True, fmt='d', cmap='Blues', xticklabels=['Class 0', 'Class 1', 'Class 2'], yticklabels=['Class 0', 'Class 1', 'Class 2'])\n",
    "plt.title('Confusion Matrix')\n",
    "plt.xlabel('Predicted')\n",
    "plt.ylabel('True')\n",
    "plt.show()"
   ]
  },
  {
   "cell_type": "code",
   "execution_count": null,
   "metadata": {},
   "outputs": [],
   "source": []
  }
 ],
 "metadata": {
  "accelerator": "GPU",
  "colab": {
   "gpuType": "T4",
   "provenance": []
  },
  "kernelspec": {
   "display_name": "Banana",
   "language": "python",
   "name": "banana"
  },
  "language_info": {
   "codemirror_mode": {
    "name": "ipython",
    "version": 3
   },
   "file_extension": ".py",
   "mimetype": "text/x-python",
   "name": "python",
   "nbconvert_exporter": "python",
   "pygments_lexer": "ipython3",
   "version": "3.9.13"
  }
 },
 "nbformat": 4,
 "nbformat_minor": 4
}
